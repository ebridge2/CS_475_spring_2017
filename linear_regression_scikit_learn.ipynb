{
 "cells": [
  {
   "cell_type": "markdown",
   "metadata": {},
   "source": [
    "# Scikit-Learn Tutorial 1 (linear regression)\n",
    "\n",
    "*by Alex Ahn*\n",
    "\n",
    "## Goal\n",
    "\n",
    "The goal of this notebook is to cover basic interface and explore usage of a popular open source ML library, Scikit-Learn.\n",
    "\n",
    "Let us start by exploring data on python."
   ]
  },
  {
   "cell_type": "markdown",
   "metadata": {},
   "source": [
    "# Scikit-Learn\n",
    "\n",
    "Scikit-learn has various tools for data analysis including meachine learning algorithms, evaluation metrics, model selections, and even various datasets.\n",
    "\n",
    "In this tutorial set, we will cover the motivation and usage of each algorithms and explore their interfaces to get started with basic understandings.\n",
    "\n",
    "First, let us get a feel for exploring data. Scikit-learn also provides various dataset loading utilities which we can easily scrape and start practicing different algorithms."
   ]
  },
  {
   "cell_type": "code",
   "execution_count": 11,
   "metadata": {
    "collapsed": false
   },
   "outputs": [
    {
     "name": "stdout",
     "output_type": "stream",
     "text": [
      "(Number of samples, feature dimension): (1797, 64)\n",
      "(Number of images(data points), dimension of X): (1797, 8, 8)\n",
      "(Number of target(data labels), dimension of Y): (1797,)\n"
     ]
    },
    {
     "data": {
      "text/plain": [
       "<matplotlib.figure.Figure at 0x1170d82b0>"
      ]
     },
     "metadata": {},
     "output_type": "display_data"
    },
    {
     "data": {
      "image/png": "[encoded data removed]",
      "text/plain": [
       "<matplotlib.figure.Figure at 0x1170d8390>"
      ]
     },
     "metadata": {},
     "output_type": "display_data"
    }
   ],
   "source": [
    "# following codes allow us to import useful libaries which we will utilize for data visualizatio and analysis\n",
    "import matplotlib.pyplot as plt\n",
    "import numpy as np\n",
    "from sklearn import datasets, linear_model\n",
    "\n",
    "# we are going to load a 'digits' dataset, which is a collection of handwritten digits (images) \n",
    "# and their true digits (target)\n",
    "\n",
    "digits = datasets.load_digits()\n",
    "X = digits.images\n",
    "Y = digits.target\n",
    "\n",
    "print(\"(Number of samples, feature dimension):\", digits.data.shape)\n",
    "print(\"(Number of images(data points), dimension of X):\", X.shape)\n",
    "print(\"(Number of target(data labels), dimension of Y):\", Y.shape)\n",
    "plt.gray()\n",
    "plt.matshow(digits.images[0])\n",
    "plt.show()"
   ]
  },
  {
   "cell_type": "code",
   "execution_count": 2,
   "metadata": {
    "collapsed": false
   },
   "outputs": [
    {
     "data": {
      "image/png": "[encoded data removed]",
      "text/plain": [
       "<matplotlib.figure.Figure at 0x116c136a0>"
      ]
     },
     "metadata": {},
     "output_type": "display_data"
    }
   ],
   "source": [
    "# To make it a little more interesting, let's try visualizing the first four images for digits\n",
    "images_and_labels = list(zip(digits.images, digits.target))\n",
    "for index, (image, label) in enumerate(images_and_labels[:4]):\n",
    "    plt.subplot(2, 4, index + 1)\n",
    "    plt.axis('off')\n",
    "    plt.imshow(image, cmap=plt.cm.gray_r, interpolation='nearest')\n",
    "    plt.title('Training: %i' % label)\n",
    "plt.show()"
   ]
  },
  {
   "cell_type": "markdown",
   "metadata": {},
   "source": [
    "# Dataset\n",
    "\n",
    "The dataset we loaded above, 'digits', correspond to 1797 images each with a true digit label (target).\n",
    "\n",
    "These Dataset objects have X (features) and Y (classification) values which we can use for various kinds of analysis.\n",
    "\n",
    "As we learned from the lecture, Dataset that has a target variable (labels) can be used for supervised learning (classification in this case of handwritten digit label prediction).\n",
    "\n",
    "Digits dataset above has total of 1797 samples, each with an image (8x8, pixel matrix) along with a digit label (1, scaler)\n",
    "\n",
    "Having nicely formatted dataset allows us to easily go ahead and make predictions, clusterings, or other type of analysis. In most cases, nevertheless, we may encounter issues for collecting and cleaning up our dataset.\n",
    "\n",
    "Before making any analysis, it is important to be able to visualize (if possible) and understand the data we are to analyze, to correctly understand the problem and its behaviors, and thus select the best approach for 'learning'."
   ]
  },
  {
   "cell_type": "markdown",
   "metadata": {},
   "source": [
    "# Learning\n",
    "\n",
    "Once we collect the data that is ready for making analysis, we can then apply appropriate algorithms for tasks such as regression, classification, or clustering.\n",
    "\n",
    "To begin with, let us explore how we can model linear regressions and make predictions. Please refer to Eric's overview on Linear Regression before going forward."
   ]
  },
  {
   "cell_type": "code",
   "execution_count": 3,
   "metadata": {
    "collapsed": false
   },
   "outputs": [
    {
     "data": {
      "image/png": "[encoded data removed]",
      "text/plain": [
       "<matplotlib.figure.Figure at 0x116c130f0>"
      ]
     },
     "metadata": {},
     "output_type": "display_data"
    }
   ],
   "source": [
    "import scipy, numpy\n",
    "\n",
    "# generate sample with error\n",
    "n_size = 50\n",
    "x = np.array(3 * np.random.rand(n_size)) # between 0 and 3\n",
    "e = 2 * np.random.randn(x.size) # noise\n",
    "y = np.array(10 * (x) + e) # some 'real' values (we let 'y' be observed values)\n",
    "\n",
    "plt.plot(x,y,'bo')\n",
    "plt.show()"
   ]
  },
  {
   "cell_type": "code",
   "execution_count": 4,
   "metadata": {
    "collapsed": false
   },
   "outputs": [
    {
     "data": {
      "image/png": "[encoded data removed]",
      "text/plain": [
       "<matplotlib.figure.Figure at 0x10e2206d8>"
      ]
     },
     "metadata": {},
     "output_type": "display_data"
    }
   ],
   "source": [
    "# mathematical fitting of linear regression (using Moore-Penrose pseudoinverse of matrix)\n",
    "X = np.ones((x.size,2));\n",
    "X[:,1] = x\n",
    "\n",
    "Xpinv = np.linalg.inv(X.T.dot(X)).dot(X.T)\n",
    "bHat = Xpinv.dot(y)\n",
    "yHat = X.dot(bHat)\n",
    "\n",
    "plt.plot(x,y,'bo'); \n",
    "plt.plot(x,yHat,'r--');\n",
    "plt.show()"
   ]
  },
  {
   "cell_type": "code",
   "execution_count": 14,
   "metadata": {
    "collapsed": false
   },
   "outputs": [
    {
     "name": "stdout",
     "output_type": "stream",
     "text": [
      "Coefficients: \n",
      " [ 10.34149245]\n",
      "Mean squared error: 3.36\n",
      "Variance score: 0.94\n"
     ]
    }
   ],
   "source": [
    "# Using scikit learn\n",
    "\n",
    "import sklearn.linear_model\n",
    "\n",
    "reg = linear_model.LinearRegression()\n",
    "\n",
    "# Convert array of scaler values 'x', into array of 1-feature array, \n",
    "# the reason why we make conversion is because scikit-learn treats X, train set as set of features (array)\n",
    "X = x[:, np.newaxis]\n",
    "\n",
    "reg.fit(X, y)\n",
    "\n",
    "# The coefficients\n",
    "print('Coefficients: \\n', reg.coef_)\n",
    "\n",
    "# The mean squared error\n",
    "print(\"Mean squared error: %.2f\" % np.mean((reg.predict(X) - y) ** 2))\n",
    "\n",
    "# Explained variance score: 1 is perfect prediction\n",
    "print('Variance score: %.2f' % reg.score(X, y))"
   ]
  },
  {
   "cell_type": "markdown",
   "metadata": {},
   "source": [
    "# Interpretation\n",
    "\n",
    "Note that we have 100% overfitted our data, without any cross-validation by splitting datasets on train vs. test\n",
    "\n",
    "The results from fitting gives us the coefficient of 10.15718, which is indeed very close to actual value, 10.\n",
    "\n",
    "Here, Mean squared error is at minimum value (minimized loss / optimized estimator)."
   ]
  },
  {
   "cell_type": "code",
   "execution_count": 16,
   "metadata": {
    "collapsed": false
   },
   "outputs": [
    {
     "data": {
      "image/png": "[encoded data removed]",
      "text/plain": [
       "<matplotlib.figure.Figure at 0x11725e518>"
      ]
     },
     "metadata": {},
     "output_type": "display_data"
    }
   ],
   "source": [
    "# We can make predictions with the linear regression model.\n",
    "observed_X = np.linspace(0, 3, 30, endpoint=True)\n",
    "observed_X = observed_X[:, np.newaxis]\n",
    "\n",
    "predicted_Y = reg.predict(observed_X)\n",
    "\n",
    "plt.plot(x, y,'bo'); \n",
    "plt.plot(observed_X, predicted_Y,'r--');\n",
    "plt.show()"
   ]
  },
  {
   "cell_type": "markdown",
   "metadata": {},
   "source": [
    "# Usage\n",
    "\n",
    "Notice that the linear regression model achieved the same result compared with the mathematical fitting of linear regression by minimizing MSE.\n",
    "\n",
    "Suppose we do not know the output value (y, target) for our input value 1.5 (x, input),\n",
    "we can train a linear regression model (if dataset is likely within the linear class), and predict latent (output) values with just x."
   ]
  },
  {
   "cell_type": "code",
   "execution_count": 17,
   "metadata": {
    "collapsed": false
   },
   "outputs": [
    {
     "name": "stdout",
     "output_type": "stream",
     "text": [
      "[ 15.36899401]\n"
     ]
    }
   ],
   "source": [
    "predicted_value = reg.predict(1.5)\n",
    "print(predicted_value)"
   ]
  }
 ],
 "metadata": {
  "kernelspec": {
   "display_name": "Python 3",
   "language": "python",
   "name": "python3"
  },
  "language_info": {
   "codemirror_mode": {
    "name": "ipython",
    "version": 3
   },
   "file_extension": ".py",
   "mimetype": "text/x-python",
   "name": "python",
   "nbconvert_exporter": "python",
   "pygments_lexer": "ipython3",
   "version": "3.6.0"
  }
 },
 "nbformat": 4,
 "nbformat_minor": 2
}
